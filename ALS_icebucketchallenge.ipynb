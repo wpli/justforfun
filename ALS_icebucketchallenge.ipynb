{
 "metadata": {
  "name": "",
  "signature": "sha256:af19925a025edda778a25b5c9fa87709b07fed62124440836220cf052775602f"
 },
 "nbformat": 3,
 "nbformat_minor": 0,
 "worksheets": [
  {
   "cells": [
    {
     "cell_type": "heading",
     "level": 1,
     "metadata": {},
     "source": [
      "How many people have done the #ALS #IceBucketChallenge?"
     ]
    },
    {
     "cell_type": "heading",
     "level": 3,
     "metadata": {},
     "source": [
      "A just-for-fun [IPython Notebook](http://ipython.org/notebook.html) analysis of the viral Internet"
     ]
    },
    {
     "cell_type": "markdown",
     "metadata": {},
     "source": [
      "by [William Li](https://twitter.com/williampli) \n",
      "\n",
      "[Fork the code](https://github.com/wpli/justforfun)"
     ]
    },
    {
     "cell_type": "heading",
     "level": 2,
     "metadata": {},
     "source": [
      "Most Importantly..."
     ]
    },
    {
     "cell_type": "markdown",
     "metadata": {},
     "source": [
      "Please consider making a donation to the [ALS Association](http://www.alsa.org/) in support of research on [amyotrophic lateral sclerosis](http://en.wikipedia.org/wiki/Amyotrophic_lateral_sclerosis). \n",
      "\n",
      "Another related organization worth learning about is the [ALS Residence Initiative (ALSRI)](http://www.alsri.org/), created by my friend, Steve Saling. The ALSRI creates technology-equipped residences so that people with ALS have access to all of the technology required to survive ALS for the rest of their life with the highest level of mobility and independence possible.\n",
      "\n",
      "This film, [Jon Imber's Left Hand](http://vimeo.com/91172268), is also worth watching. [Jon Imber](http://www.bostonglobe.com/metro/2014/04/24/jon-imber-artist-kept-painting-with-exuberance-face-als/bQen0EjAUKD2veEeXwPvpL/story.html) was an artist diagnosed with ALS who lived an amazing life. He passed away earlier this year."
     ]
    },
    {
     "cell_type": "heading",
     "level": 2,
     "metadata": {},
     "source": [
      "Some Quick Simulations"
     ]
    },
    {
     "cell_type": "markdown",
     "metadata": {},
     "source": [
      "Just for fun, it might be interesting to see how the ALS Ice Bucket Challenge spreads. According to Wikipedia, the challenge started roughly on July 15, 2014. For our first model, we'll assume:\n",
      "\n",
      "* there was one person who started it all\n",
      "* each person who participates challenges three people\n",
      "* of the three people who are challenged, two of them accept the challenge\n",
      "\n",
      "My main simulation suggests that 3.9 million people have done the ALS Ice Bucket Challenge."
     ]
    },
    {
     "cell_type": "code",
     "collapsed": false,
     "input": [
      "num_starters = 1\n",
      "num_challengers = 3\n",
      "num_accepting = 2\n",
      "people_per_day = []\n",
      "\n",
      "import datetime\n",
      "start_date = datetime.date( 2014,7,15 )\n",
      "\n",
      "today = datetime.date.today()\n",
      "\n",
      "num_days_timedelta = today - start_date\n",
      "num_days = num_days_timedelta.days\n",
      "for i in range( num_days ):\n",
      "    people_per_day.append( num_starters * num_accepting**i ) \n",
      "\n",
      "print \"Number of days: %s\" % num_days\n",
      "print sum( people_per_day )"
     ],
     "language": "python",
     "metadata": {},
     "outputs": [
      {
       "output_type": "stream",
       "stream": "stdout",
       "text": [
        "Number of days: 36\n",
        "68719476735\n"
       ]
      }
     ],
     "prompt_number": 78
    },
    {
     "cell_type": "markdown",
     "metadata": {},
     "source": [
      "OK, 68.7 billion people is, well, a lot. For completeness, it's worth noting what happens if 0, 1, 2, or all 3 people participate in the challenge: \n"
     ]
    },
    {
     "cell_type": "code",
     "collapsed": false,
     "input": [
      "\n",
      "people_per_day = []\n",
      "\n",
      "for num_accepting in [ 0, 1, 2, 3 ]:\n",
      "    for i in range( num_days ):\n",
      "        people_per_day.append( num_starters * num_accepting**i ) \n",
      "\n",
      "    print \"If %s people accept, the total number of people who accept are:\" % num_accepting, \n",
      "    print sum( people_per_day )"
     ],
     "language": "python",
     "metadata": {},
     "outputs": [
      {
       "output_type": "stream",
       "stream": "stdout",
       "text": [
        "If 0 people accept, the total number of people who accept are: 1\n",
        "If 1 people accept, the total number of people who accept are: 37\n",
        "If 2 people accept, the total number of people who accept are: 68719476772\n",
        "If 3 people accept, the total number of people who accept are: 75047386367976332\n"
       ]
      }
     ],
     "prompt_number": 35
    },
    {
     "cell_type": "markdown",
     "metadata": {},
     "source": [
      "Of course, 68.7 billion or 75 quadrillion people are estimates that are far too high. Also, it seems like more than 37 of my Facebook friends have done the Ice Bucket Challenge already. A better model is needed."
     ]
    },
    {
     "cell_type": "heading",
     "level": 2,
     "metadata": {},
     "source": [
      "Model #2: A Random Number of People Accepting Your Challenge"
     ]
    },
    {
     "cell_type": "markdown",
     "metadata": {},
     "source": [
      "Perhaps we can refine our model of the ALS Ice Bucket Challenge as follows: Instead of a fixed number of people who accept the challenge, there is an equal chance that 0, 1, 2, or 3 of a participant's challengers will accept (25% for each number)\n",
      "\n",
      "I've simulated this below. Because there is randomness, we need to simulate multiple times and look at the distribution of number of participants (someone, let me know if this qualifies as a \"Monte Carlo simulation\")."
     ]
    },
    {
     "cell_type": "code",
     "collapsed": false,
     "input": [
      "import random\n",
      "\n",
      "possible_acceptances = [0,1,2,3]\n",
      "\n",
      "num_iterations = 100\n",
      "\n",
      "one_starter_total_participants_per_iteration = []\n",
      "\n",
      "for iteration in range( num_iterations ):\n",
      "    people_per_day = []\n",
      "    for i in range(num_days):\n",
      "        if i == 0:\n",
      "            # start with 1 person\n",
      "            people_per_day.append( 1 )\n",
      "        else:\n",
      "\n",
      "            day_sum = 0        \n",
      "            for participant in range( people_per_day[i-1] ):\n",
      "                day_sum += random.choice( possible_acceptances )\n",
      "\n",
      "            #print i, day_sum\n",
      "            people_per_day.append( day_sum )\n",
      "            \n",
      "    total_participants = sum( people_per_day )\n",
      "    print \"Run %s | Participants: %s\" % ( iteration, total_participants )\n",
      "    one_starter_total_participants_per_iteration.append( total_participants )\n",
      "        \n"
     ],
     "language": "python",
     "metadata": {},
     "outputs": [
      {
       "output_type": "stream",
       "stream": "stdout",
       "text": [
        "Run 0 | Participants: 2123055\n",
        "Run 1 | Participants: 1\n",
        "Run 2 | Participants: 1480286"
       ]
      },
      {
       "output_type": "stream",
       "stream": "stdout",
       "text": [
        "\n",
        "Run 3 | Participants: 1\n",
        "Run 4 | Participants: 1\n",
        "Run 5 | Participants: 3\n",
        "Run 6 | Participants: 14026726"
       ]
      },
      {
       "output_type": "stream",
       "stream": "stdout",
       "text": [
        "\n",
        "Run 7 | Participants: 6380677"
       ]
      },
      {
       "output_type": "stream",
       "stream": "stdout",
       "text": [
        "\n",
        "Run 8 | Participants: 6393066"
       ]
      },
      {
       "output_type": "stream",
       "stream": "stdout",
       "text": [
        "\n",
        "Run 9 | Participants: 10764319"
       ]
      },
      {
       "output_type": "stream",
       "stream": "stdout",
       "text": [
        "\n",
        "Run 10 | Participants: 6451831"
       ]
      },
      {
       "output_type": "stream",
       "stream": "stdout",
       "text": [
        "\n",
        "Run 11 | Participants: 1\n",
        "Run 12 | Participants: 4977227"
       ]
      },
      {
       "output_type": "stream",
       "stream": "stdout",
       "text": [
        "\n",
        "Run 13 | Participants: 1995178"
       ]
      },
      {
       "output_type": "stream",
       "stream": "stdout",
       "text": [
        "\n",
        "Run 14 | Participants: 14674304"
       ]
      },
      {
       "output_type": "stream",
       "stream": "stdout",
       "text": [
        "\n",
        "Run 15 | Participants: 14786619"
       ]
      },
      {
       "output_type": "stream",
       "stream": "stdout",
       "text": [
        "\n",
        "Run 16 | Participants: 7972774"
       ]
      },
      {
       "output_type": "stream",
       "stream": "stdout",
       "text": [
        "\n",
        "Run 17 | Participants: 2\n",
        "Run 18 | Participants: 5272053"
       ]
      },
      {
       "output_type": "stream",
       "stream": "stdout",
       "text": [
        "\n",
        "Run 19 | Participants: 3\n",
        "Run 20 | Participants: 1251601"
       ]
      },
      {
       "output_type": "stream",
       "stream": "stdout",
       "text": [
        "\n",
        "Run 21 | Participants: 1021296"
       ]
      },
      {
       "output_type": "stream",
       "stream": "stdout",
       "text": [
        "\n",
        "Run 22 | Participants: 4\n",
        "Run 23 | Participants: 1722840"
       ]
      },
      {
       "output_type": "stream",
       "stream": "stdout",
       "text": [
        "\n",
        "Run 24 | Participants: 1\n",
        "Run 25 | Participants: 11395849"
       ]
      },
      {
       "output_type": "stream",
       "stream": "stdout",
       "text": [
        "\n",
        "Run 26 | Participants: 1\n",
        "Run 27 | Participants: 4398866"
       ]
      },
      {
       "output_type": "stream",
       "stream": "stdout",
       "text": [
        "\n",
        "Run 28 | Participants: 4371149"
       ]
      },
      {
       "output_type": "stream",
       "stream": "stdout",
       "text": [
        "\n",
        "Run 29 | Participants: 520994"
       ]
      },
      {
       "output_type": "stream",
       "stream": "stdout",
       "text": [
        "\n",
        "Run 30 | Participants: 1076902"
       ]
      },
      {
       "output_type": "stream",
       "stream": "stdout",
       "text": [
        "\n",
        "Run 31 | Participants: 1\n",
        "Run 32 | Participants: 4\n",
        "Run 33 | Participants: 7824247"
       ]
      },
      {
       "output_type": "stream",
       "stream": "stdout",
       "text": [
        "\n",
        "Run 34 | Participants: 1\n",
        "Run 35 | Participants: 1\n",
        "Run 36 | Participants: 3\n",
        "Run 37 | Participants: 1764246"
       ]
      },
      {
       "output_type": "stream",
       "stream": "stdout",
       "text": [
        "\n",
        "Run 38 | Participants: 6617681"
       ]
      },
      {
       "output_type": "stream",
       "stream": "stdout",
       "text": [
        "\n",
        "Run 39 | Participants: 7789818"
       ]
      },
      {
       "output_type": "stream",
       "stream": "stdout",
       "text": [
        "\n",
        "Run 40 | Participants: 1\n",
        "Run 41 | Participants: 6824607"
       ]
      },
      {
       "output_type": "stream",
       "stream": "stdout",
       "text": [
        "\n",
        "Run 42 | Participants: 1\n",
        "Run 43 | Participants: 2001088"
       ]
      },
      {
       "output_type": "stream",
       "stream": "stdout",
       "text": [
        "\n",
        "Run 44 | Participants: 1\n",
        "Run 45 | Participants: 1\n",
        "Run 46 | Participants: 1\n",
        "Run 47 | Participants: 12453077"
       ]
      },
      {
       "output_type": "stream",
       "stream": "stdout",
       "text": [
        "\n",
        "Run 48 | Participants: 5671015"
       ]
      },
      {
       "output_type": "stream",
       "stream": "stdout",
       "text": [
        "\n",
        "Run 49 | Participants: 3214218"
       ]
      },
      {
       "output_type": "stream",
       "stream": "stdout",
       "text": [
        "\n",
        "Run 50 | Participants: 7134801"
       ]
      },
      {
       "output_type": "stream",
       "stream": "stdout",
       "text": [
        "\n",
        "Run 51 | Participants: 1\n",
        "Run 52 | Participants: 2\n",
        "Run 53 | Participants: 981680"
       ]
      },
      {
       "output_type": "stream",
       "stream": "stdout",
       "text": [
        "\n",
        "Run 54 | Participants: 9214861"
       ]
      },
      {
       "output_type": "stream",
       "stream": "stdout",
       "text": [
        "\n",
        "Run 55 | Participants: 1\n",
        "Run 56 | Participants: 1516996"
       ]
      },
      {
       "output_type": "stream",
       "stream": "stdout",
       "text": [
        "\n",
        "Run 57 | Participants: 8328438"
       ]
      },
      {
       "output_type": "stream",
       "stream": "stdout",
       "text": [
        "\n",
        "Run 58 | Participants: 8838739"
       ]
      },
      {
       "output_type": "stream",
       "stream": "stdout",
       "text": [
        "\n",
        "Run 59 | Participants: 1940254"
       ]
      },
      {
       "output_type": "stream",
       "stream": "stdout",
       "text": [
        "\n",
        "Run 60 | Participants: 9727297"
       ]
      },
      {
       "output_type": "stream",
       "stream": "stdout",
       "text": [
        "\n",
        "Run 61 | Participants: 1\n",
        "Run 62 | Participants: 2542744"
       ]
      },
      {
       "output_type": "stream",
       "stream": "stdout",
       "text": [
        "\n",
        "Run 63 | Participants: 5160375"
       ]
      },
      {
       "output_type": "stream",
       "stream": "stdout",
       "text": [
        "\n",
        "Run 64 | Participants: 12408677"
       ]
      },
      {
       "output_type": "stream",
       "stream": "stdout",
       "text": [
        "\n",
        "Run 65 | Participants: 6404073"
       ]
      },
      {
       "output_type": "stream",
       "stream": "stdout",
       "text": [
        "\n",
        "Run 66 | Participants: 1\n",
        "Run 67 | Participants: 13806817"
       ]
      },
      {
       "output_type": "stream",
       "stream": "stdout",
       "text": [
        "\n",
        "Run 68 | Participants: 1696425"
       ]
      },
      {
       "output_type": "stream",
       "stream": "stdout",
       "text": [
        "\n",
        "Run 69 | Participants: 4835505"
       ]
      },
      {
       "output_type": "stream",
       "stream": "stdout",
       "text": [
        "\n",
        "Run 70 | Participants: 2\n",
        "Run 71 | Participants: 22429796"
       ]
      },
      {
       "output_type": "stream",
       "stream": "stdout",
       "text": [
        "\n",
        "Run 72 | Participants: 5812196"
       ]
      },
      {
       "output_type": "stream",
       "stream": "stdout",
       "text": [
        "\n",
        "Run 73 | Participants: 1\n",
        "Run 74 | Participants: 6917039"
       ]
      },
      {
       "output_type": "stream",
       "stream": "stdout",
       "text": [
        "\n",
        "Run 75 | Participants: 4\n",
        "Run 76 | Participants: 12674133"
       ]
      },
      {
       "output_type": "stream",
       "stream": "stdout",
       "text": [
        "\n",
        "Run 77 | Participants: 1\n",
        "Run 78 | Participants: 2699038"
       ]
      },
      {
       "output_type": "stream",
       "stream": "stdout",
       "text": [
        "\n",
        "Run 79 | Participants: 14352792"
       ]
      },
      {
       "output_type": "stream",
       "stream": "stdout",
       "text": [
        "\n",
        "Run 80 | Participants: 2240828"
       ]
      },
      {
       "output_type": "stream",
       "stream": "stdout",
       "text": [
        "\n",
        "Run 81 | Participants: 4307057"
       ]
      },
      {
       "output_type": "stream",
       "stream": "stdout",
       "text": [
        "\n",
        "Run 82 | Participants: 9076397"
       ]
      },
      {
       "output_type": "stream",
       "stream": "stdout",
       "text": [
        "\n",
        "Run 83 | Participants: 13000611"
       ]
      },
      {
       "output_type": "stream",
       "stream": "stdout",
       "text": [
        "\n",
        "Run 84 | Participants: 1\n",
        "Run 85 | Participants: 1809513"
       ]
      },
      {
       "output_type": "stream",
       "stream": "stdout",
       "text": [
        "\n",
        "Run 86 | Participants: 2699916"
       ]
      },
      {
       "output_type": "stream",
       "stream": "stdout",
       "text": [
        "\n",
        "Run 87 | Participants: 2030397"
       ]
      },
      {
       "output_type": "stream",
       "stream": "stdout",
       "text": [
        "\n",
        "Run 88 | Participants: 2\n",
        "Run 89 | Participants: 6505593"
       ]
      },
      {
       "output_type": "stream",
       "stream": "stdout",
       "text": [
        "\n",
        "Run 90 | Participants: 3986640"
       ]
      },
      {
       "output_type": "stream",
       "stream": "stdout",
       "text": [
        "\n",
        "Run 91 | Participants: 4\n",
        "Run 92 | Participants: 1\n",
        "Run 93 | Participants: 1\n",
        "Run 94 | Participants: 1\n",
        "Run 95 | Participants: 7910678"
       ]
      },
      {
       "output_type": "stream",
       "stream": "stdout",
       "text": [
        "\n",
        "Run 96 | Participants: 4549855"
       ]
      },
      {
       "output_type": "stream",
       "stream": "stdout",
       "text": [
        "\n",
        "Run 97 | Participants: 1\n",
        "Run 98 | Participants: 16\n",
        "Run 99 | Participants: 1\n"
       ]
      }
     ],
     "prompt_number": 124
    },
    {
     "cell_type": "markdown",
     "metadata": {},
     "source": [
      "That's a lot of variance over the simulated run -- between 1 and 20 million (the theoretical maximum was 75 quadrillion). It turns out that the number of participants in certain simulations (about 25% of them!) is exactly 1 --- no one accepts the first challenger.\n",
      "\n",
      "I've summarized and plotted the results below. The average number of participants in these simulations is 3.9 million. This might be a realistic number, in light of the fact that the ALS Association recently announced that [it has raised $22.9 million](http://www.alsa.org/news/media/press-releases/ice-bucket-challenge-081914.html), this might be a realistic estimate."
     ]
    },
    {
     "cell_type": "code",
     "collapsed": false,
     "input": [
      "import numpy\n",
      "print \"Average Number of Participants: %s\" % int( numpy.round( numpy.mean( multiple_starters_total_participants_per_iteration ) ) )\n",
      "print \"Standard Deviation of Number of Participants: %s\" % int( numpy.round( numpy.std( multiple_starters_total_participants_per_iteration ) ) )\n",
      "print \"Minimum: %s\" % int( numpy.round( numpy.min( multiple_starters_total_participants_per_iteration ) ) )\n",
      "print \"Maximum: %s\" % int( numpy.round( numpy.max( multiple_starters_total_participants_per_iteration ) ) )\n",
      "\n",
      "hist( multiple_starters_total_participants_per_iteration )\n",
      "title( \"Histogram of Simulated Number of Participants\" )\n",
      "xlabel( \"Number of Participants\" )\n",
      "ylabel( \"Count (out of %s simulations)\" % num_iterations ) "
     ],
     "language": "python",
     "metadata": {},
     "outputs": [
      {
       "output_type": "stream",
       "stream": "stdout",
       "text": [
        "Average Number of Participants: 22544390\n",
        "Standard Deviation of Number of Participants: 12267680\n",
        "Minimum: 10\n",
        "Maximum: 53212034\n"
       ]
      },
      {
       "metadata": {},
       "output_type": "pyout",
       "prompt_number": 131,
       "text": [
        "<matplotlib.text.Text at 0x1066cbf90>"
       ]
      },
      {
       "metadata": {},
       "output_type": "display_data",
       "png": "[encoded data removed]",
       "text": [
        "<matplotlib.figure.Figure at 0x1066c0310>"
       ]
      }
     ],
     "prompt_number": 131
    },
    {
     "cell_type": "heading",
     "level": 2,
     "metadata": {},
     "source": [
      "Future Work"
     ]
    },
    {
     "cell_type": "markdown",
     "metadata": {},
     "source": [
      "This model could be extended and improved in many ways. In terms of the simulations, once there are enough participants, the sampling for each participant could be replaced with sampling from a Gaussian distribution, since the central limit theorem would take hold.  \n",
      "\n",
      "It'd be interesting to study actual data associated with the Ice Bucket Challenge (e.g. on Twitter and Facebook) and see how many people actually learned about ALS. The actual impact of the challenge on donations in support of people with ALS would also be worthwhile research. \n",
      "\n",
      "A final, personal plug: This fall, I'm co-teaching a course at MIT called [6.811: Principles and Practice of Assistive Technology](http://courses.csail.mit.edu/PPAT). Small teams of students work with people with disabilities over an entire semester and develop customized devices and solutions that help them live more independently. In previous years, we have worked with people with ALS in the Boston area, including the aforementioned Steve Saling. Please visit the [course website](http://courses.csail.mit.edu/PPAT), join our \"friends\" mailing list, or get in touch with me ([@williampli](http://www.twitter.com/williampli) or [wli@csail.mit.edu](mailto:wli@csail.mit.edu)) to learn more. "
     ]
    },
    {
     "cell_type": "heading",
     "level": 2,
     "metadata": {},
     "source": [
      "Extension: Model #3 More than One Starter (A Tiny Refinement)"
     ]
    },
    {
     "cell_type": "code",
     "collapsed": true,
     "input": [
      "import random\n",
      "\n",
      "possible_acceptances = [0,1,2,3]\n",
      "\n",
      "num_iterations = 100\n",
      "\n",
      "num_starters = 5\n",
      "multiple_starters_total_participants_per_iteration = []\n",
      "\n",
      "for iteration in range( num_iterations ):\n",
      "    people_per_day = []\n",
      "    for i in range(num_days):\n",
      "        if i == 0:\n",
      "            # start with 1 person\n",
      "            people_per_day.append( num_starters )\n",
      "        else:\n",
      "\n",
      "            day_sum = 0        \n",
      "            for participant in range( people_per_day[i-1] ):\n",
      "                day_sum += random.choice( possible_acceptances )\n",
      "\n",
      "            #print i, day_sum\n",
      "            people_per_day.append( day_sum )\n",
      "            \n",
      "    total_participants = sum( people_per_day )\n",
      "    print \"Run %s | Participants: %s\" % ( iteration, total_participants )\n",
      "    multiple_starters_total_participants_per_iteration.append( total_participants )\n",
      "        "
     ],
     "language": "python",
     "metadata": {},
     "outputs": [
      {
       "output_type": "stream",
       "stream": "stdout",
       "text": [
        "Run 0 | Participants: 51311015\n",
        "Run 1 | Participants: 17371965"
       ]
      },
      {
       "output_type": "stream",
       "stream": "stdout",
       "text": [
        "\n",
        "Run 2 | Participants: 31485773"
       ]
      },
      {
       "output_type": "stream",
       "stream": "stdout",
       "text": [
        "\n",
        "Run 3 | Participants: 41406682"
       ]
      },
      {
       "output_type": "stream",
       "stream": "stdout",
       "text": [
        "\n",
        "Run 4 | Participants: 44199461"
       ]
      },
      {
       "output_type": "stream",
       "stream": "stdout",
       "text": [
        "\n",
        "Run 5 | Participants: 45232663"
       ]
      },
      {
       "output_type": "stream",
       "stream": "stdout",
       "text": [
        "\n",
        "Run 6 | Participants: 20239616"
       ]
      },
      {
       "output_type": "stream",
       "stream": "stdout",
       "text": [
        "\n",
        "Run 7 | Participants: 27210904"
       ]
      },
      {
       "output_type": "stream",
       "stream": "stdout",
       "text": [
        "\n",
        "Run 8 | Participants: 27403690"
       ]
      },
      {
       "output_type": "stream",
       "stream": "stdout",
       "text": [
        "\n",
        "Run 9 | Participants: 15546526"
       ]
      },
      {
       "output_type": "stream",
       "stream": "stdout",
       "text": [
        "\n",
        "Run 10 | Participants: 21088098"
       ]
      },
      {
       "output_type": "stream",
       "stream": "stdout",
       "text": [
        "\n",
        "Run 11 | Participants: 12163847"
       ]
      },
      {
       "output_type": "stream",
       "stream": "stdout",
       "text": [
        "\n",
        "Run 12 | Participants: 25004125"
       ]
      },
      {
       "output_type": "stream",
       "stream": "stdout",
       "text": [
        "\n",
        "Run 13 | Participants: 1026182"
       ]
      },
      {
       "output_type": "stream",
       "stream": "stdout",
       "text": [
        "\n",
        "Run 14 | Participants: 15769120"
       ]
      },
      {
       "output_type": "stream",
       "stream": "stdout",
       "text": [
        "\n",
        "Run 15 | Participants: 36280174"
       ]
      },
      {
       "output_type": "stream",
       "stream": "stdout",
       "text": [
        "\n",
        "Run 16 | Participants: 20237274"
       ]
      },
      {
       "output_type": "stream",
       "stream": "stdout",
       "text": [
        "\n",
        "Run 17 | Participants: 15097440"
       ]
      },
      {
       "output_type": "stream",
       "stream": "stdout",
       "text": [
        "\n",
        "Run 18 | Participants: 22943263"
       ]
      },
      {
       "output_type": "stream",
       "stream": "stdout",
       "text": [
        "\n",
        "Run 19 | Participants: 19528970"
       ]
      },
      {
       "output_type": "stream",
       "stream": "stdout",
       "text": [
        "\n",
        "Run 20 | Participants: 50149071"
       ]
      },
      {
       "output_type": "stream",
       "stream": "stdout",
       "text": [
        "\n",
        "Run 21 | Participants: 16997544"
       ]
      },
      {
       "output_type": "stream",
       "stream": "stdout",
       "text": [
        "\n",
        "Run 22 | Participants: 24158807"
       ]
      },
      {
       "output_type": "stream",
       "stream": "stdout",
       "text": [
        "\n",
        "Run 23 | Participants: 30905199"
       ]
      },
      {
       "output_type": "stream",
       "stream": "stdout",
       "text": [
        "\n",
        "Run 24 | Participants: 27722961"
       ]
      },
      {
       "output_type": "stream",
       "stream": "stdout",
       "text": [
        "\n",
        "Run 25 | Participants: 26868194"
       ]
      },
      {
       "output_type": "stream",
       "stream": "stdout",
       "text": [
        "\n",
        "Run 26 | Participants: 8395693"
       ]
      },
      {
       "output_type": "stream",
       "stream": "stdout",
       "text": [
        "\n",
        "Run 27 | Participants: 6770768"
       ]
      },
      {
       "output_type": "stream",
       "stream": "stdout",
       "text": [
        "\n",
        "Run 28 | Participants: 18962566"
       ]
      },
      {
       "output_type": "stream",
       "stream": "stdout",
       "text": [
        "\n",
        "Run 29 | Participants: 3872198"
       ]
      },
      {
       "output_type": "stream",
       "stream": "stdout",
       "text": [
        "\n",
        "Run 30 | Participants: 17650750"
       ]
      },
      {
       "output_type": "stream",
       "stream": "stdout",
       "text": [
        "\n",
        "Run 31 | Participants: 26578603"
       ]
      },
      {
       "output_type": "stream",
       "stream": "stdout",
       "text": [
        "\n",
        "Run 32 | Participants: 7013918"
       ]
      },
      {
       "output_type": "stream",
       "stream": "stdout",
       "text": [
        "\n",
        "Run 33 | Participants: 8960382"
       ]
      },
      {
       "output_type": "stream",
       "stream": "stdout",
       "text": [
        "\n",
        "Run 34 | Participants: 27499939"
       ]
      },
      {
       "output_type": "stream",
       "stream": "stdout",
       "text": [
        "\n",
        "Run 35 | Participants: 6991544"
       ]
      },
      {
       "output_type": "stream",
       "stream": "stdout",
       "text": [
        "\n",
        "Run 36 | Participants: 34973971"
       ]
      },
      {
       "output_type": "stream",
       "stream": "stdout",
       "text": [
        "\n",
        "Run 37 | Participants: 4951588"
       ]
      },
      {
       "output_type": "stream",
       "stream": "stdout",
       "text": [
        "\n",
        "Run 38 | Participants: 13853070"
       ]
      },
      {
       "output_type": "stream",
       "stream": "stdout",
       "text": [
        "\n",
        "Run 39 | Participants: 45437226"
       ]
      },
      {
       "output_type": "stream",
       "stream": "stdout",
       "text": [
        "\n",
        "Run 40 | Participants: 16059941"
       ]
      },
      {
       "output_type": "stream",
       "stream": "stdout",
       "text": [
        "\n",
        "Run 41 | Participants: 23712058"
       ]
      },
      {
       "output_type": "stream",
       "stream": "stdout",
       "text": [
        "\n",
        "Run 42 | Participants: 20107946"
       ]
      },
      {
       "output_type": "stream",
       "stream": "stdout",
       "text": [
        "\n",
        "Run 43 | Participants: 9364913"
       ]
      },
      {
       "output_type": "stream",
       "stream": "stdout",
       "text": [
        "\n",
        "Run 44 | Participants: 38877157"
       ]
      },
      {
       "output_type": "stream",
       "stream": "stdout",
       "text": [
        "\n",
        "Run 45 | Participants: 46358566"
       ]
      },
      {
       "output_type": "stream",
       "stream": "stdout",
       "text": [
        "\n",
        "Run 46 | Participants: 17046985"
       ]
      },
      {
       "output_type": "stream",
       "stream": "stdout",
       "text": [
        "\n",
        "Run 47 | Participants: 25321311"
       ]
      },
      {
       "output_type": "stream",
       "stream": "stdout",
       "text": [
        "\n",
        "Run 48 | Participants: 53212034"
       ]
      },
      {
       "output_type": "stream",
       "stream": "stdout",
       "text": [
        "\n",
        "Run 49 | Participants: 13123340"
       ]
      },
      {
       "output_type": "stream",
       "stream": "stdout",
       "text": [
        "\n",
        "Run 50 | Participants: 25464653"
       ]
      },
      {
       "output_type": "stream",
       "stream": "stdout",
       "text": [
        "\n",
        "Run 51 | Participants: 33467460"
       ]
      },
      {
       "output_type": "stream",
       "stream": "stdout",
       "text": [
        "\n",
        "Run 52 | Participants: 9723439"
       ]
      },
      {
       "output_type": "stream",
       "stream": "stdout",
       "text": [
        "\n",
        "Run 53 | Participants: 19680776"
       ]
      },
      {
       "output_type": "stream",
       "stream": "stdout",
       "text": [
        "\n",
        "Run 54 | Participants: 30239653"
       ]
      },
      {
       "output_type": "stream",
       "stream": "stdout",
       "text": [
        "\n",
        "Run 55 | Participants: 22471382"
       ]
      },
      {
       "output_type": "stream",
       "stream": "stdout",
       "text": [
        "\n",
        "Run 56 | Participants: 24015662"
       ]
      },
      {
       "output_type": "stream",
       "stream": "stdout",
       "text": [
        "\n",
        "Run 57 | Participants: 18129956"
       ]
      },
      {
       "output_type": "stream",
       "stream": "stdout",
       "text": [
        "\n",
        "Run 58 | Participants: 30618596"
       ]
      },
      {
       "output_type": "stream",
       "stream": "stdout",
       "text": [
        "\n",
        "Run 59 | Participants: 19700727"
       ]
      },
      {
       "output_type": "stream",
       "stream": "stdout",
       "text": [
        "\n",
        "Run 60 | Participants: 21753236"
       ]
      },
      {
       "output_type": "stream",
       "stream": "stdout",
       "text": [
        "\n",
        "Run 61 | Participants: 52532245"
       ]
      },
      {
       "output_type": "stream",
       "stream": "stdout",
       "text": [
        "\n",
        "Run 62 | Participants: 26369499"
       ]
      },
      {
       "output_type": "stream",
       "stream": "stdout",
       "text": [
        "\n",
        "Run 63 | Participants: 7877164"
       ]
      },
      {
       "output_type": "stream",
       "stream": "stdout",
       "text": [
        "\n",
        "Run 64 | Participants: 12140299"
       ]
      },
      {
       "output_type": "stream",
       "stream": "stdout",
       "text": [
        "\n",
        "Run 65 | Participants: 10089622"
       ]
      },
      {
       "output_type": "stream",
       "stream": "stdout",
       "text": [
        "\n",
        "Run 66 | Participants: 34456833"
       ]
      },
      {
       "output_type": "stream",
       "stream": "stdout",
       "text": [
        "\n",
        "Run 67 | Participants: 26828202"
       ]
      },
      {
       "output_type": "stream",
       "stream": "stdout",
       "text": [
        "\n",
        "Run 68 | Participants: 18157675"
       ]
      },
      {
       "output_type": "stream",
       "stream": "stdout",
       "text": [
        "\n",
        "Run 69 | Participants: 31859555"
       ]
      },
      {
       "output_type": "stream",
       "stream": "stdout",
       "text": [
        "\n",
        "Run 70 | Participants: 24765680"
       ]
      },
      {
       "output_type": "stream",
       "stream": "stdout",
       "text": [
        "\n",
        "Run 71 | Participants: 23060061"
       ]
      },
      {
       "output_type": "stream",
       "stream": "stdout",
       "text": [
        "\n",
        "Run 72 | Participants: 45306944"
       ]
      },
      {
       "output_type": "stream",
       "stream": "stdout",
       "text": [
        "\n",
        "Run 73 | Participants: 28525583"
       ]
      },
      {
       "output_type": "stream",
       "stream": "stdout",
       "text": [
        "\n",
        "Run 74 | Participants: 13107818"
       ]
      },
      {
       "output_type": "stream",
       "stream": "stdout",
       "text": [
        "\n",
        "Run 75 | Participants: 32447698"
       ]
      },
      {
       "output_type": "stream",
       "stream": "stdout",
       "text": [
        "\n",
        "Run 76 | Participants: 1678661"
       ]
      },
      {
       "output_type": "stream",
       "stream": "stdout",
       "text": [
        "\n",
        "Run 77 | Participants: 3564320"
       ]
      },
      {
       "output_type": "stream",
       "stream": "stdout",
       "text": [
        "\n",
        "Run 78 | Participants: 29454989"
       ]
      },
      {
       "output_type": "stream",
       "stream": "stdout",
       "text": [
        "\n",
        "Run 79 | Participants: 21128297"
       ]
      },
      {
       "output_type": "stream",
       "stream": "stdout",
       "text": [
        "\n",
        "Run 80 | Participants: 17185599"
       ]
      },
      {
       "output_type": "stream",
       "stream": "stdout",
       "text": [
        "\n",
        "Run 81 | Participants: 24152042"
       ]
      },
      {
       "output_type": "stream",
       "stream": "stdout",
       "text": [
        "\n",
        "Run 82 | Participants: 28789934"
       ]
      },
      {
       "output_type": "stream",
       "stream": "stdout",
       "text": [
        "\n",
        "Run 83 | Participants: 4471276"
       ]
      },
      {
       "output_type": "stream",
       "stream": "stdout",
       "text": [
        "\n",
        "Run 84 | Participants: 16647468"
       ]
      },
      {
       "output_type": "stream",
       "stream": "stdout",
       "text": [
        "\n",
        "Run 85 | Participants: 16954611"
       ]
      },
      {
       "output_type": "stream",
       "stream": "stdout",
       "text": [
        "\n",
        "Run 86 | Participants: 10705652"
       ]
      },
      {
       "output_type": "stream",
       "stream": "stdout",
       "text": [
        "\n",
        "Run 87 | Participants: 38805040"
       ]
      },
      {
       "output_type": "stream",
       "stream": "stdout",
       "text": [
        "\n",
        "Run 88 | Participants: 10546699"
       ]
      },
      {
       "output_type": "stream",
       "stream": "stdout",
       "text": [
        "\n",
        "Run 89 | Participants: 21828664"
       ]
      },
      {
       "output_type": "stream",
       "stream": "stdout",
       "text": [
        "\n",
        "Run 90 | Participants: 13739965"
       ]
      },
      {
       "output_type": "stream",
       "stream": "stdout",
       "text": [
        "\n",
        "Run 91 | Participants: 31482857"
       ]
      },
      {
       "output_type": "stream",
       "stream": "stdout",
       "text": [
        "\n",
        "Run 92 | Participants: 10597407"
       ]
      },
      {
       "output_type": "stream",
       "stream": "stdout",
       "text": [
        "\n",
        "Run 93 | Participants: 34671795"
       ]
      },
      {
       "output_type": "stream",
       "stream": "stdout",
       "text": [
        "\n",
        "Run 94 | Participants: 10\n",
        "Run 95 | Participants: 10440910"
       ]
      },
      {
       "output_type": "stream",
       "stream": "stdout",
       "text": [
        "\n",
        "Run 96 | Participants: 12764474"
       ]
      },
      {
       "output_type": "stream",
       "stream": "stdout",
       "text": [
        "\n",
        "Run 97 | Participants: 12458000"
       ]
      },
      {
       "output_type": "stream",
       "stream": "stdout",
       "text": [
        "\n",
        "Run 98 | Participants: 34129551"
       ]
      },
      {
       "output_type": "stream",
       "stream": "stdout",
       "text": [
        "\n",
        "Run 99 | Participants: 23005300"
       ]
      },
      {
       "output_type": "stream",
       "stream": "stdout",
       "text": [
        "\n"
       ]
      }
     ],
     "prompt_number": 128
    },
    {
     "cell_type": "markdown",
     "metadata": {},
     "source": [
      "Having one starter results in a substantial chance (25%, in our case) that only one person will do the challenge --- the viral dynamics of the Internet won't take off. It seems like the ALS Ice Bucket Challenge had, at various stages, multiple people join without being challenged (maybe they self-nominated). One approximation is that we assume that five people, not one person, started the challenge, and use the same approach as above:"
     ]
    },
    {
     "cell_type": "code",
     "collapsed": false,
     "input": [
      "import numpy\n",
      "print \"Average Number of Participants: %s\" % int( numpy.round( numpy.mean( one_starter_total_participants_per_iteration ) ) )\n",
      "print \"Standard Deviation: %s\" % int( numpy.round( numpy.std( one_starter_total_participants_per_iteration ) ) )\n",
      "print \"Maximum: %s\" % int( numpy.round( numpy.min( one_starter_total_participants_per_iteration ) ) )\n",
      "print \"Minimum: %s\" % int( numpy.round( numpy.max( one_starter_total_participants_per_iteration ) ) )\n",
      "\n",
      "hist( total_participants_per_iteration )\n",
      "title( \"Histogram of Simulated Number of Participants\" )\n",
      "xlabel( \"Number of Participants\" )\n",
      "ylabel( \"Count (out of %s simulations)\" % num_iterations ) "
     ],
     "language": "python",
     "metadata": {},
     "outputs": [
      {
       "output_type": "stream",
       "stream": "stdout",
       "text": [
        "Average Number of Participants: 3947578\n",
        "Standard Deviation: 4743725\n",
        "Maximum: 1\n",
        "Minimum: 22429796\n"
       ]
      },
      {
       "metadata": {},
       "output_type": "pyout",
       "prompt_number": 132,
       "text": [
        "<matplotlib.text.Text at 0x10e9b5810>"
       ]
      },
      {
       "metadata": {},
       "output_type": "display_data",
       "png": "[encoded data removed]",
       "text": [
        "<matplotlib.figure.Figure at 0x10e9032d0>"
       ]
      }
     ],
     "prompt_number": 132
    },
    {
     "cell_type": "markdown",
     "metadata": {},
     "source": [
      "The estimated average number of participants is quite high: 22.5 million. The variance has reduced, since there are far fewer cases where no one after day 1 does the challenge. \n",
      "\n",
      "The results from this model are summarized below. The histogram is more normally distributed (Gaussian), since there are fewer very-low events). Overall, the average estimate in this case, though, is arguably too high; I leave the tweaking of parameters and better models to future work (please [fork the code](https://github.com/wpli/justforfun) if you're interested!)"
     ]
    },
    {
     "cell_type": "code",
     "collapsed": false,
     "input": [],
     "language": "python",
     "metadata": {},
     "outputs": []
    }
   ],
   "metadata": {}
  }
 ]
}